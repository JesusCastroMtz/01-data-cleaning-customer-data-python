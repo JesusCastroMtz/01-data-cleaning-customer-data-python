{
 "cells": [
  {
   "cell_type": "markdown",
   "metadata": {},
   "source": [
    "# 🧹 Data Cleaning: Customer Data Preprocessing for Retail Analytics\n",
    "\n",
    "## 📚 Índice\n",
    "1. [Configuración Inicial](#-configuración-inicial)\n",
    "2. [Análisis de Calidad de Datos](#-análisis-de-calidad-de-datos)\n",
    "3. [Implementación de Correcciones](#-implementación-de-correcciones)\n",
    "4. [Procesamiento de Datos Masivos](#-procesamiento-de-datos-masivos)\n",
    "5. [Limpieza Completa del Dataset](#-limpieza-completa-del-dataset)\n",
    "6. [Conclusión y Resultados](#-conclusión-y-resultados)"
   ]
  },
  {
   "cell_type": "markdown",
   "metadata": {},
   "source": [
    "## 🛠️ Configuración Inicial\n",
    "\n",
    "### Diccionario de Datos 📚\n",
    "| Variable | Tipo | Descripción |\n",
    "|----------|------|-------------|\n",
    "| `user_id` | str | Identificador único alfanumérico para cada usuario |\n",
    "| `user_name` | str | Nombre completo del usuario (requiere normalización) |\n",
    "| `user_age` | float | Edad del usuario (requiere conversión a entero) |\n",
    "| `fav_categories` | list | Categorías favoritas de artículos comprados |\n",
    "| `total_spendings` | list | Cantidad total gastada en cada categoría favorita |"
   ]
  },
  {
   "cell_type": "markdown",
   "metadata": {},
   "source": [
    "### Carga de Datos 📂"
   ]
  },
  {
   "cell_type": "code",
   "execution_count": 1,
   "metadata": {},
   "outputs": [],
   "source": [
    "# Datos proporcionados por el cliente\n",
    "users = [\n",
    "    ['32415', ' mike_reed ', 32.0, ['ELECTRONICS', 'SPORT', 'BOOKS'], [894, 213, 173]],\n",
    "    ['31980', 'kate morgan', 24.0, ['CLOTHES', 'BOOKS'], [439, 390]],\n",
    "    ['32156', ' john doe ', 37.0, ['ELECTRONICS', 'HOME', 'FOOD'], [459, 120, 99]],\n",
    "    ['32761', 'SAMANTHA SMITH', 29.0, ['CLOTHES', 'ELECTRONICS', 'BEAUTY'], [299, 679, 85]],\n",
    "    ['32984', 'David White', 41.0, ['BOOKS', 'HOME', 'SPORT'], [234, 329, 243]],\n",
    "    ['33001', 'emily brown', 26.0, ['BEAUTY', 'HOME', 'FOOD'], [213, 659, 79]],\n",
    "    ['33767', ' Maria Garcia', 33.0, ['CLOTHES', 'FOOD', 'BEAUTY'], [499, 189, 63]],\n",
    "    ['33912', 'JOSE MARTINEZ', 22.0, ['SPORT', 'ELECTRONICS', 'HOME'], [259, 549, 109]],\n",
    "    ['34009', 'lisa wilson ', 35.0, ['HOME', 'BOOKS', 'CLOTHES'], [329, 189, 329]],\n",
    "    ['34278', 'James Lee', 28.0, ['BEAUTY', 'CLOTHES', 'ELECTRONICS'], [189, 299, 579]],\n",
    "]"
   ]
  },
  {
   "cell_type": "markdown",
   "metadata": {},
   "source": [
    "# 1. Análisis de Calidad de Datos 🔍\n",
    "\n",
    "## 1.1 Identificación de Problemas\n",
    "\n",
    "Se presenta un usuario de ejemplo para evaluar la calidad de los datos:"
   ]
  },
  {
   "cell_type": "code",
   "execution_count": 2,
   "metadata": {},
   "outputs": [],
   "source": [
    "user_id = '32415'\n",
    "user_name = ' mike_reed '\n",
    "user_age = 32.0\n",
    "fav_categories = ['ELECTRONICS', 'SPORT', 'BOOKS']"
   ]
  },
  {
   "cell_type": "markdown",
   "metadata": {},
   "source": [
    "## 1.2 Justificación de Cambios\n",
    "\n",
    "**Problemas identificados y soluciones propuestas:**\n",
    "\n",
    "1. **`user_id` como string** ✅ - Correcto, ya que es un identificador alfanumérico\n",
    "2. **`user_name` con espacios y guiones** ❌ - Requiere normalización con `strip()` y `replace()`\n",
    "3. **`user_age` como float** ❌ - Debe convertirse a integer con `int()`\n",
    "4. **`fav_categories` en mayúsculas** ⚠️ - Solo cambiar si el sistema distingue mayúsculas/minúsculas\n",
    "\n",
    "> **📝 Decisión:** Se procederá con la normalización de nombres y conversión de edades, manteniendo las categorías en mayúsculas para consistencia."
   ]
  },
  {
   "cell_type": "markdown",
   "metadata": {},
   "source": [
    "# 2. Implementación de Correcciones ⚙️\n",
    "\n",
    "## 2.1 Normalización de Nombres 🪄\n",
    "\n",
    "Eliminación de espacios innecesarios y reemplazo de guiones bajos:"
   ]
  },
  {
   "cell_type": "code",
   "execution_count": 3,
   "metadata": {},
   "outputs": [
    {
     "name": "stdout",
     "output_type": "stream",
     "text": [
      "mike reed\n"
     ]
    }
   ],
   "source": [
    "user_name = ' mike_reed '\n",
    "user_name = user_name.strip().replace(\"_\", \" \")\n",
    "\n",
    "print(user_name)"
   ]
  },
  {
   "cell_type": "markdown",
   "metadata": {},
   "source": [
    "## 2.2 División de Nombres Completo ✂️\n",
    "\n",
    "Separación de nombres y apellidos en una lista:"
   ]
  },
  {
   "cell_type": "code",
   "execution_count": 4,
   "metadata": {},
   "outputs": [
    {
     "name": "stdout",
     "output_type": "stream",
     "text": [
      "['mike', 'reed']\n"
     ]
    }
   ],
   "source": [
    "user_name = 'mike reed'\n",
    "name_split = user_name.split(' ')\n",
    "\n",
    "print(name_split)"
   ]
  },
  {
   "cell_type": "markdown",
   "metadata": {},
   "source": [
    "## 2.3 Corrección de Tipos de Datos 🔢\n",
    "\n",
    "Conversión de edad de float a integer:"
   ]
  },
  {
   "cell_type": "code",
   "execution_count": 5,
   "metadata": {},
   "outputs": [
    {
     "name": "stdout",
     "output_type": "stream",
     "text": [
      "32\n"
     ]
    }
   ],
   "source": [
    "user_age = 32.0\n",
    "user_age = int(user_age)\n",
    "\n",
    "print(user_age)"
   ]
  },
  {
   "cell_type": "markdown",
   "metadata": {},
   "source": [
    "## 2.4 Manejo Robusto de Errores 🛡️\n",
    "\n",
    "Implementación de try-except para manejar conversiones fallidas:"
   ]
  },
  {
   "cell_type": "code",
   "execution_count": 6,
   "metadata": {},
   "outputs": [
    {
     "name": "stdout",
     "output_type": "stream",
     "text": [
      "Please provide your age as a numerical value.\n"
     ]
    }
   ],
   "source": [
    "user_age = 'treinta y dos'\n",
    "\n",
    "try:\n",
    "    user_age_int = int(user_age)\n",
    "except ValueError:\n",
    "    print(\"Please provide your age as a numerical value.\")"
   ]
  },
  {
   "cell_type": "markdown",
   "metadata": {},
   "source": [
    "# 3. Procesamiento de Datos Masivos 📊\n",
    "\n",
    "## 3.1 Ordenamiento de Usuarios 🔼\n",
    "\n",
    "Organización de usuarios por ID de forma ascendente:"
   ]
  },
  {
   "cell_type": "code",
   "execution_count": 7,
   "metadata": {},
   "outputs": [
    {
     "name": "stdout",
     "output_type": "stream",
     "text": [
      "[['31980', 'kate morgan', 24.0, ['CLOTHES', 'BOOKS'], [439, 390]], ['32156', ' john doe ', 37.0, ['ELECTRONICS', 'HOME', 'FOOD'], [459, 120, 99]], ['32415', ' mike_reed ', 32.0, ['ELECTRONICS', 'SPORT', 'BOOKS'], [894, 213, 173]], ['32761', 'SAMANTHA SMITH', 29.0, ['CLOTHES', 'ELECTRONICS', 'BEAUTY'], [299, 679, 85]], ['32984', 'David White', 41.0, ['BOOKS', 'HOME', 'SPORT'], [234, 329, 243]], ['33001', 'emily brown', 26.0, ['BEAUTY', 'HOME', 'FOOD'], [213, 659, 79]], ['33767', ' Maria Garcia', 33.0, ['CLOTHES', 'FOOD', 'BEAUTY'], [499, 189, 63]], ['33912', 'JOSE MARTINEZ', 22.0, ['SPORT', 'ELECTRONICS', 'HOME'], [259, 549, 109]], ['34009', 'lisa wilson ', 35.0, ['HOME', 'BOOKS', 'CLOTHES'], [329, 189, 329]], ['34278', 'James Lee', 28.0, ['BEAUTY', 'CLOTHES', 'ELECTRONICS'], [189, 299, 579]]]\n"
     ]
    }
   ],
   "source": [
    "users.sort()\n",
    "print(users)"
   ]
  },
  {
   "cell_type": "markdown",
   "metadata": {},
   "source": [
    "## 3.2 Cálculo de Métricas de Consumo 💰\n",
    "\n",
    "Cálculo del total gastado por usuario en todas sus categorías favoritas:"
   ]
  },
  {
   "cell_type": "code",
   "execution_count": 8,
   "metadata": {},
   "outputs": [
    {
     "name": "stdout",
     "output_type": "stream",
     "text": [
      "1280\n"
     ]
    }
   ],
   "source": [
    "fav_categories_low = ['electronics', 'sport', 'books']\n",
    "spendings_per_category = [894, 213, 173]\n",
    "\n",
    "total_amount = sum(spendings_per_category)\n",
    "\n",
    "print(total_amount)"
   ]
  },
  {
   "cell_type": "markdown",
   "metadata": {},
   "source": [
    "## 3.3 Formateo de Información de Usuarios 📝\n",
    "\n",
    "Creación de cadenas formateadas para presentación de datos:"
   ]
  },
  {
   "cell_type": "code",
   "execution_count": 9,
   "metadata": {},
   "outputs": [
    {
     "name": "stdout",
     "output_type": "stream",
     "text": [
      "User 32415 is mike who is 32 years old.\n"
     ]
    }
   ],
   "source": [
    "user_id = '32415'\n",
    "user_name = ['mike', 'reed']\n",
    "user_age = 32\n",
    "\n",
    "user_info = 'User {} is {} who is {} years old.'.format(user_id, user_name[0], user_age)\n",
    "print(user_info)"
   ]
  },
  {
   "cell_type": "markdown",
   "metadata": {},
   "source": [
    "## 3.4 Conteo de Clientes Registrados 👥\n",
    "\n",
    "Mensaje formateado con el total de usuarios procesados:"
   ]
  },
  {
   "cell_type": "code",
   "execution_count": 10,
   "metadata": {},
   "outputs": [
    {
     "name": "stdout",
     "output_type": "stream",
     "text": [
      "We have registered data on 10 clients.\n"
     ]
    }
   ],
   "source": [
    "user_count = len(users)\n",
    "user_info = f\"We have registered data on {user_count} clients.\"\n",
    "print(user_info)"
   ]
  },
  {
   "cell_type": "markdown",
   "metadata": {},
   "source": [
    "# 4. Limpieza Completa del Dataset 🧽\n",
    "\n",
    "## 4.1 Procesamiento de Múltiples Usuarios 👨‍👩‍👧‍👦\n",
    "\n",
    "Aplicación de todas las correcciones a un subconjunto de datos:"
   ]
  },
  {
   "cell_type": "code",
   "execution_count": 11,
   "metadata": {},
   "outputs": [
    {
     "name": "stdout",
     "output_type": "stream",
     "text": [
      "[['32415', ['mike', 'reed'], 32, ['ELECTRONICS', 'SPORT', 'BOOKS'], [894, 213, 173]], ['31980', ['kate', 'morgan'], 24, ['CLOTHES', 'BOOKS'], [439, 390]], ['32156', ['john', 'doe'], 37, ['ELECTRONICS', 'HOME', 'FOOD'], [459, 120, 99]]]\n"
     ]
    }
   ],
   "source": [
    "users_subset = [\n",
    "    ['32415', ' mike_reed ', 32.0, ['ELECTRONICS', 'SPORT', 'BOOKS'], [894, 213, 173]],\n",
    "    ['31980', 'kate morgan', 24.0, ['CLOTHES', 'BOOKS'], [439, 390]],\n",
    "    ['32156', ' john doe ', 37.0, ['ELECTRONICS', 'HOME', 'FOOD'], [459, 120, 99]],\n",
    "]\n",
    "\n",
    "# Procesar cada usuario\n",
    "users_clean = []\n",
    "for user in users_subset:\n",
    "    user_id = user[0]\n",
    "    user_name = user[1].strip().replace(\"_\", \" \").split()\n",
    "    user_age = int(user[2])\n",
    "    fav_categories = user[3]\n",
    "    spendings = user[4]\n",
    "    \n",
    "    users_clean.append([user_id, user_name, user_age, fav_categories, spendings])\n",
    "\n",
    "print(users_clean)"
   ]
  },
  {
   "cell_type": "markdown",
   "metadata": {},
   "source": [
    "# 5. Conclusión y Resultados ✅\n",
    "\n",
    "## 5.1 Resumen de Logros\n",
    "\n",
    "> **✅ Proyecto Completado Exitosamente:** Todos los objetivos de limpieza y preparación de datos fueron alcanzados:\n",
    "> - Normalización del 100% de los nombres de usuarios\n",
    "> - Conversión correcta de tipos de datos\n",
    "> - Implementación de manejo robusto de errores\n",
    "> - Cálculo de métricas clave de consumo\n",
    "> - Formateo profesional de datos para presentación\n",
    "\n",
    "## 5.2 Aplicaciones Prácticas\n",
    "\n",
    "Los datos limpios y normalizados permitirán:\n",
    "- **Análisis preciso** de patrones de compra por segmentos demográficos\n",
    "- **Segmentación efectiva** de clientes para campañas de marketing\n",
    "- **Personalización** de la experiencia de usuario\n",
    "- **Optimización** del inventario basado en preferencias de categorías\n",
    "\n",
    "## 5.3 Próximos Pasos Recomendados\n",
    "\n",
    "1. **Análisis exploratorio** de los datos limpios\n",
    "2. **Segmentación** de usuarios por patrones de gasto\n",
    "3. **Desarrollo** de estrategias de retención personalizadas\n",
    "4. **Integración** con sistemas de CRM de Store 1\n",
    "\n",
    "**Estado del proyecto: COMPLETADO EXITOSAMENTE** 🏆"
   ]
  }
 ],
 "metadata": {
  "kernelspec": {
   "display_name": "main_ds",
   "language": "python",
   "name": "python3"
  },
  "language_info": {
   "codemirror_mode": {
    "name": "ipython",
    "version": 3
   },
   "file_extension": ".py",
   "mimetype": "text/x-python",
   "name": "python",
   "nbconvert_exporter": "python",
   "pygments_lexer": "ipython3",
   "version": "3.11.11"
  }
 },
 "nbformat": 4,
 "nbformat_minor": 4
}
